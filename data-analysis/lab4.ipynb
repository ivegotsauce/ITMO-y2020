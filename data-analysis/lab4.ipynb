{
 "cells": [
  {
   "cell_type": "code",
   "execution_count": null,
   "metadata": {},
   "outputs": [],
   "source": [
    "%pip install requests"
   ]
  },
  {
   "cell_type": "code",
   "execution_count": 234,
   "metadata": {},
   "outputs": [],
   "source": [
    "from pandas import read_csv, DataFrame\n",
    "from sklearn.linear_model import LinearRegression\n",
    "from sklearn.metrics import mean_absolute_percentage_error\n",
    "import pandas as pd\n",
    "import numpy as np\n",
    "import requests"
   ]
  },
  {
   "cell_type": "code",
   "execution_count": 205,
   "metadata": {},
   "outputs": [],
   "source": [
    "train = read_csv('andan-2022-autumn-lab-4/train.csv')\n",
    "test_x = read_csv('andan-2022-autumn-lab-4/test_x.csv')\n",
    "sample_submission = read_csv('andan-2022-autumn-lab-4/sample_submission.csv')"
   ]
  },
  {
   "cell_type": "code",
   "execution_count": null,
   "metadata": {},
   "outputs": [],
   "source": [
    "cities = set(train.city.values).union(set(test_x.city.values))\n",
    "importance = {}\n",
    "i = 0\n",
    "for city in cities:\n",
    "    request_city = '+'.join(city.split())\n",
    "    response = requests.get(f'https://nominatim.openstreetmap.org/search.php?q={request_city}&format=jsonv2').json()\n",
    "    if (len(response) == 0):\n",
    "        importance[city] = 0\n",
    "    else:\n",
    "        importance[city] = response[0]['importance']\n",
    "    if i % 100 == 0:\n",
    "        print(i, city, importance[city])\n",
    "    i += 1"
   ]
  },
  {
   "cell_type": "code",
   "execution_count": null,
   "metadata": {},
   "outputs": [],
   "source": [
    "imp = importance.copy()\n",
    "imp"
   ]
  },
  {
   "cell_type": "code",
   "execution_count": 288,
   "metadata": {},
   "outputs": [],
   "source": [
    "def preprocess(data):\n",
    "    global imp\n",
    "    data = data.assign(\n",
    "        city_importance = data.city.apply(lambda x : imp[x])\n",
    "    )\n",
    "    data = data.drop(['floor', 'city', 'osm_city_nearest_name', 'street', 'id'], axis=1)\n",
    "    data['date'] = pd.to_datetime(data.date, format='%Y-%m-%d')\n",
    "    data['date'] = (data.date - data.date.min()).dt.days\n",
    "    data.osm_city_nearest_population.fillna(value=data.osm_city_nearest_population.mode()[0], inplace=True)\n",
    "    data.reform_house_population_1000.fillna(value=data.reform_house_population_1000.mode()[0], inplace=True)\n",
    "    data.reform_house_population_500.fillna(value=data.reform_house_population_500.mode()[0], inplace=True)\n",
    "    data.reform_mean_floor_count_1000.fillna(value=data.reform_mean_floor_count_1000.mean(), inplace=True)\n",
    "    data.reform_mean_floor_count_500.fillna(value=data.reform_mean_floor_count_500.mean(), inplace=True)\n",
    "    data.reform_mean_year_building_1000.fillna(value=data.reform_mean_year_building_1000.mean(), inplace=True)\n",
    "    data.reform_mean_year_building_500.fillna(value=data.reform_mean_year_building_500.mean(), inplace=True)\n",
    "    one_hot_regions = pd.get_dummies(data['region'])\n",
    "    data = data.drop(['region'], axis=1).join(one_hot_regions)\n",
    "    return data"
   ]
  },
  {
   "cell_type": "code",
   "execution_count": 301,
   "metadata": {},
   "outputs": [],
   "source": [
    "x_train = preprocess(train)\n",
    "y_train = train.per_square_meter_price\n",
    "#with pd.option_context('display.max_rows', None, 'display.max_columns', None):\n",
    "#    display(abs(x_corr.per_square_meter_price) > 0.05)\n",
    "x_train = x_train.drop(['per_square_meter_price'], axis=1)"
   ]
  },
  {
   "cell_type": "code",
   "execution_count": 302,
   "metadata": {},
   "outputs": [
    {
     "data": {
      "text/plain": [
       "0         0.654271\n",
       "1         0.694813\n",
       "2         0.664911\n",
       "3         0.665946\n",
       "4         0.718438\n",
       "            ...   \n",
       "206469    0.743440\n",
       "206470    0.718438\n",
       "206471    0.654271\n",
       "206472    0.923213\n",
       "206473    0.734856\n",
       "Name: city_importance, Length: 206474, dtype: float64"
      ]
     },
     "execution_count": 302,
     "metadata": {},
     "output_type": "execute_result"
    }
   ],
   "source": [
    "x_train.city_importance"
   ]
  },
  {
   "cell_type": "code",
   "execution_count": 303,
   "metadata": {},
   "outputs": [
    {
     "data": {
      "text/plain": [
       "LinearRegression()"
      ]
     },
     "execution_count": 303,
     "metadata": {},
     "output_type": "execute_result"
    }
   ],
   "source": [
    "model = LinearRegression()\n",
    "model.fit(x_train, np.log(y_train))"
   ]
  },
  {
   "cell_type": "code",
   "execution_count": 304,
   "metadata": {},
   "outputs": [],
   "source": [
    "x_test = preprocess(test_x)"
   ]
  },
  {
   "cell_type": "code",
   "execution_count": 305,
   "metadata": {},
   "outputs": [],
   "source": [
    "y_test = model.predict(x_test)"
   ]
  },
  {
   "cell_type": "code",
   "execution_count": 306,
   "metadata": {},
   "outputs": [
    {
     "data": {
      "text/html": [
       "<div>\n",
       "<style scoped>\n",
       "    .dataframe tbody tr th:only-of-type {\n",
       "        vertical-align: middle;\n",
       "    }\n",
       "\n",
       "    .dataframe tbody tr th {\n",
       "        vertical-align: top;\n",
       "    }\n",
       "\n",
       "    .dataframe thead th {\n",
       "        text-align: right;\n",
       "    }\n",
       "</style>\n",
       "<table border=\"1\" class=\"dataframe\">\n",
       "  <thead>\n",
       "    <tr style=\"text-align: right;\">\n",
       "      <th></th>\n",
       "      <th>per_square_meter_price</th>\n",
       "    </tr>\n",
       "    <tr>\n",
       "      <th>id</th>\n",
       "      <th></th>\n",
       "    </tr>\n",
       "  </thead>\n",
       "  <tbody>\n",
       "    <tr>\n",
       "      <th>0</th>\n",
       "      <td>23395.131659</td>\n",
       "    </tr>\n",
       "    <tr>\n",
       "      <th>1</th>\n",
       "      <td>5474.966895</td>\n",
       "    </tr>\n",
       "    <tr>\n",
       "      <th>2</th>\n",
       "      <td>7730.328624</td>\n",
       "    </tr>\n",
       "    <tr>\n",
       "      <th>3</th>\n",
       "      <td>9497.484719</td>\n",
       "    </tr>\n",
       "    <tr>\n",
       "      <th>4</th>\n",
       "      <td>9711.922234</td>\n",
       "    </tr>\n",
       "    <tr>\n",
       "      <th>...</th>\n",
       "      <td>...</td>\n",
       "    </tr>\n",
       "    <tr>\n",
       "      <th>68820</th>\n",
       "      <td>4371.100521</td>\n",
       "    </tr>\n",
       "    <tr>\n",
       "      <th>68821</th>\n",
       "      <td>8618.570901</td>\n",
       "    </tr>\n",
       "    <tr>\n",
       "      <th>68822</th>\n",
       "      <td>16345.908803</td>\n",
       "    </tr>\n",
       "    <tr>\n",
       "      <th>68823</th>\n",
       "      <td>39377.039577</td>\n",
       "    </tr>\n",
       "    <tr>\n",
       "      <th>68824</th>\n",
       "      <td>12054.049067</td>\n",
       "    </tr>\n",
       "  </tbody>\n",
       "</table>\n",
       "<p>68825 rows × 1 columns</p>\n",
       "</div>"
      ],
      "text/plain": [
       "       per_square_meter_price\n",
       "id                           \n",
       "0                23395.131659\n",
       "1                 5474.966895\n",
       "2                 7730.328624\n",
       "3                 9497.484719\n",
       "4                 9711.922234\n",
       "...                       ...\n",
       "68820             4371.100521\n",
       "68821             8618.570901\n",
       "68822            16345.908803\n",
       "68823            39377.039577\n",
       "68824            12054.049067\n",
       "\n",
       "[68825 rows x 1 columns]"
      ]
     },
     "execution_count": 306,
     "metadata": {},
     "output_type": "execute_result"
    }
   ],
   "source": [
    "ans = pd.DataFrame()\n",
    "ans['per_square_meter_price'] = np.exp(y_test)\n",
    "ans['id'] = ans.index.values\n",
    "ans = ans.set_index('id')\n",
    "ans = ans / 5\n",
    "ans"
   ]
  },
  {
   "cell_type": "code",
   "execution_count": 307,
   "metadata": {},
   "outputs": [],
   "source": [
    "ans.to_csv('andan-2022-autumn-lab-4/submission.csv')"
   ]
  }
 ],
 "metadata": {
  "kernelspec": {
   "display_name": "Python 3.9.7 ('base')",
   "language": "python",
   "name": "python3"
  },
  "language_info": {
   "codemirror_mode": {
    "name": "ipython",
    "version": 3
   },
   "file_extension": ".py",
   "mimetype": "text/x-python",
   "name": "python",
   "nbconvert_exporter": "python",
   "pygments_lexer": "ipython3",
   "version": "3.9.7"
  },
  "orig_nbformat": 4,
  "vscode": {
   "interpreter": {
    "hash": "a077222d77dfe082b8f1dd562ad70e458ac2ab76993a0b248ab0476e32e9e8dd"
   }
  }
 },
 "nbformat": 4,
 "nbformat_minor": 2
}
